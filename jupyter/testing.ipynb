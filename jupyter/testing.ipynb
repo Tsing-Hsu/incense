{
 "cells": [
  {
   "cell_type": "code",
   "execution_count": 1,
   "metadata": {},
   "outputs": [],
   "source": [
    "import yaml\n",
    "import logging\n",
    "import logging.config\n"
   ]
  },
  {
   "cell_type": "code",
   "execution_count": 2,
   "metadata": {},
   "outputs": [],
   "source": [
    "try:\n",
    "    a_yaml_file = open('loggingconfig.yaml')\n",
    "except FileNotFoundError as error:\n",
    "    print(error)\n"
   ]
  },
  {
   "cell_type": "code",
   "execution_count": 3,
   "metadata": {},
   "outputs": [],
   "source": [
    "parsed_yaml_file = yaml.load(a_yaml_file, Loader=yaml.FullLoader)"
   ]
  },
  {
   "cell_type": "code",
   "execution_count": 4,
   "metadata": {},
   "outputs": [
    {
     "output_type": "stream",
     "name": "stdout",
     "text": "{'version': 1, 'formatters': {'brief': {'format': '%(asctime)s - %(name)s - %(levelname)s - %(message)s'}, 'precise': {'format': '%(asctime)s - %(name)s - %(levelname)s - %(message)s'}}, 'handlers': {'console': {'class': 'logging.StreamHandler', 'formatter': 'brief', 'level': 'INFO', 'stream': 'ext://sys.stdout'}, 'file': {'class': 'logging.handlers.RotatingFileHandler', 'formatter': 'precise', 'level': 'INFO', 'filename': 'logconfig.log', 'maxBytes': 32768, 'backupCount': 3}}, 'loggers': {'default': {'handlers': ['console', 'file'], 'level': 'NOTSET', 'propagate': False}, '__main__': {'handlers': ['console', 'file'], 'level': 'NOTSET', 'propagate': False}}}\n"
    }
   ],
   "source": [
    "print(parsed_yaml_file)"
   ]
  },
  {
   "cell_type": "code",
   "execution_count": 4,
   "metadata": {},
   "outputs": [],
   "source": [
    "logging.config.dictConfig(parsed_yaml_file)"
   ]
  },
  {
   "cell_type": "code",
   "execution_count": 5,
   "metadata": {},
   "outputs": [],
   "source": [
    "logger = logging.getLogger('Jupyter test')\n"
   ]
  },
  {
   "cell_type": "code",
   "execution_count": 6,
   "metadata": {},
   "outputs": [
    {
     "output_type": "stream",
     "name": "stdout",
     "text": "2020-05-23 16:18:17,359 - Jupyter test - INFO - logger configured\n"
    }
   ],
   "source": [
    "logger.debug('logger configured.')\n",
    "logger.info('logger configured')"
   ]
  },
  {
   "cell_type": "code",
   "execution_count": 9,
   "metadata": {},
   "outputs": [
    {
     "output_type": "execute_result",
     "data": {
      "text/plain": "<RootLogger root (NOTSET)>"
     },
     "metadata": {},
     "execution_count": 9
    }
   ],
   "source": [
    "logging.getLogger()"
   ]
  },
  {
   "cell_type": "code",
   "execution_count": 9,
   "metadata": {},
   "outputs": [],
   "source": [
    "logging.info('info info')"
   ]
  },
  {
   "cell_type": "code",
   "execution_count": 7,
   "metadata": {},
   "outputs": [
    {
     "output_type": "stream",
     "name": "stdout",
     "text": "2020-05-23 16:18:23,501 - Jupyter test - WARNING - argh\n"
    }
   ],
   "source": [
    "logger.warning('argh')"
   ]
  },
  {
   "cell_type": "code",
   "execution_count": 14,
   "metadata": {},
   "outputs": [
    {
     "output_type": "stream",
     "name": "stdout",
     "text": "2020-05-23 16:02:40,756 - root - WARNING - argh\n"
    }
   ],
   "source": [
    "logging.warning('argh')"
   ]
  },
  {
   "cell_type": "code",
   "execution_count": null,
   "metadata": {},
   "outputs": [],
   "source": []
  }
 ],
 "metadata": {
  "language_info": {
   "codemirror_mode": {
    "name": "ipython",
    "version": 3
   },
   "file_extension": ".py",
   "mimetype": "text/x-python",
   "name": "python",
   "nbconvert_exporter": "python",
   "pygments_lexer": "ipython3",
   "version": "3.8.3-final"
  },
  "orig_nbformat": 2,
  "kernelspec": {
   "name": "python3",
   "display_name": "Python 3"
  }
 },
 "nbformat": 4,
 "nbformat_minor": 2
}